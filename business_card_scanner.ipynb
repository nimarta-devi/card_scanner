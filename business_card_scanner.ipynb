{
  "nbformat": 4,
  "nbformat_minor": 0,
  "metadata": {
    "colab": {
      "provenance": [],
      "include_colab_link": true
    },
    "kernelspec": {
      "name": "python3",
      "display_name": "Python 3"
    },
    "language_info": {
      "name": "python"
    },
    "widgets": {
      "application/vnd.jupyter.widget-state+json": {
        "379b48a582424c47bfe7f0b05f82cc83": {
          "model_module": "@jupyter-widgets/controls",
          "model_name": "IntSliderModel",
          "model_module_version": "1.5.0",
          "state": {
            "_dom_classes": [],
            "_model_module": "@jupyter-widgets/controls",
            "_model_module_version": "1.5.0",
            "_model_name": "IntSliderModel",
            "_view_count": null,
            "_view_module": "@jupyter-widgets/controls",
            "_view_module_version": "1.5.0",
            "_view_name": "IntSliderView",
            "continuous_update": true,
            "description": "lower threshold:",
            "description_tooltip": null,
            "disabled": false,
            "layout": "IPY_MODEL_e0486a9abb8a492eb8a2c84d9fbf60ad",
            "max": 255,
            "min": 0,
            "orientation": "horizontal",
            "readout": true,
            "readout_format": "d",
            "step": 1,
            "style": "IPY_MODEL_ed9b969eadf044bc97a535e6e7905fea",
            "value": 204
          }
        },
        "e0486a9abb8a492eb8a2c84d9fbf60ad": {
          "model_module": "@jupyter-widgets/base",
          "model_name": "LayoutModel",
          "model_module_version": "1.2.0",
          "state": {
            "_model_module": "@jupyter-widgets/base",
            "_model_module_version": "1.2.0",
            "_model_name": "LayoutModel",
            "_view_count": null,
            "_view_module": "@jupyter-widgets/base",
            "_view_module_version": "1.2.0",
            "_view_name": "LayoutView",
            "align_content": null,
            "align_items": null,
            "align_self": null,
            "border": null,
            "bottom": null,
            "display": null,
            "flex": null,
            "flex_flow": null,
            "grid_area": null,
            "grid_auto_columns": null,
            "grid_auto_flow": null,
            "grid_auto_rows": null,
            "grid_column": null,
            "grid_gap": null,
            "grid_row": null,
            "grid_template_areas": null,
            "grid_template_columns": null,
            "grid_template_rows": null,
            "height": null,
            "justify_content": null,
            "justify_items": null,
            "left": null,
            "margin": null,
            "max_height": null,
            "max_width": null,
            "min_height": null,
            "min_width": null,
            "object_fit": null,
            "object_position": null,
            "order": null,
            "overflow": null,
            "overflow_x": null,
            "overflow_y": null,
            "padding": null,
            "right": null,
            "top": null,
            "visibility": null,
            "width": null
          }
        },
        "ed9b969eadf044bc97a535e6e7905fea": {
          "model_module": "@jupyter-widgets/controls",
          "model_name": "SliderStyleModel",
          "model_module_version": "1.5.0",
          "state": {
            "_model_module": "@jupyter-widgets/controls",
            "_model_module_version": "1.5.0",
            "_model_name": "SliderStyleModel",
            "_view_count": null,
            "_view_module": "@jupyter-widgets/base",
            "_view_module_version": "1.2.0",
            "_view_name": "StyleView",
            "description_width": "",
            "handle_color": null
          }
        },
        "e3f7bfd4e77746b5b6e90e0fddc2204c": {
          "model_module": "@jupyter-widgets/controls",
          "model_name": "IntSliderModel",
          "model_module_version": "1.5.0",
          "state": {
            "_dom_classes": [],
            "_model_module": "@jupyter-widgets/controls",
            "_model_module_version": "1.5.0",
            "_model_name": "IntSliderModel",
            "_view_count": null,
            "_view_module": "@jupyter-widgets/controls",
            "_view_module_version": "1.5.0",
            "_view_name": "IntSliderView",
            "continuous_update": true,
            "description": "upper threshold:",
            "description_tooltip": null,
            "disabled": false,
            "layout": "IPY_MODEL_461c33b6bab24ebdaebb2c3cd5a794ca",
            "max": 255,
            "min": 0,
            "orientation": "horizontal",
            "readout": true,
            "readout_format": "d",
            "step": 1,
            "style": "IPY_MODEL_e7a93bb762594acbbb1e48be5f0000ee",
            "value": 255
          }
        },
        "461c33b6bab24ebdaebb2c3cd5a794ca": {
          "model_module": "@jupyter-widgets/base",
          "model_name": "LayoutModel",
          "model_module_version": "1.2.0",
          "state": {
            "_model_module": "@jupyter-widgets/base",
            "_model_module_version": "1.2.0",
            "_model_name": "LayoutModel",
            "_view_count": null,
            "_view_module": "@jupyter-widgets/base",
            "_view_module_version": "1.2.0",
            "_view_name": "LayoutView",
            "align_content": null,
            "align_items": null,
            "align_self": null,
            "border": null,
            "bottom": null,
            "display": null,
            "flex": null,
            "flex_flow": null,
            "grid_area": null,
            "grid_auto_columns": null,
            "grid_auto_flow": null,
            "grid_auto_rows": null,
            "grid_column": null,
            "grid_gap": null,
            "grid_row": null,
            "grid_template_areas": null,
            "grid_template_columns": null,
            "grid_template_rows": null,
            "height": null,
            "justify_content": null,
            "justify_items": null,
            "left": null,
            "margin": null,
            "max_height": null,
            "max_width": null,
            "min_height": null,
            "min_width": null,
            "object_fit": null,
            "object_position": null,
            "order": null,
            "overflow": null,
            "overflow_x": null,
            "overflow_y": null,
            "padding": null,
            "right": null,
            "top": null,
            "visibility": null,
            "width": null
          }
        },
        "e7a93bb762594acbbb1e48be5f0000ee": {
          "model_module": "@jupyter-widgets/controls",
          "model_name": "SliderStyleModel",
          "model_module_version": "1.5.0",
          "state": {
            "_model_module": "@jupyter-widgets/controls",
            "_model_module_version": "1.5.0",
            "_model_name": "SliderStyleModel",
            "_view_count": null,
            "_view_module": "@jupyter-widgets/base",
            "_view_module_version": "1.2.0",
            "_view_name": "StyleView",
            "description_width": "",
            "handle_color": null
          }
        },
        "c808cdbee8e5451bb3a8e93c580cfc0a": {
          "model_module": "@jupyter-widgets/controls",
          "model_name": "ButtonModel",
          "model_module_version": "1.5.0",
          "state": {
            "_dom_classes": [],
            "_model_module": "@jupyter-widgets/controls",
            "_model_module_version": "1.5.0",
            "_model_name": "ButtonModel",
            "_view_count": null,
            "_view_module": "@jupyter-widgets/controls",
            "_view_module_version": "1.5.0",
            "_view_name": "ButtonView",
            "button_style": "success",
            "description": "Canny Edge Detect",
            "disabled": false,
            "icon": "",
            "layout": "IPY_MODEL_aa0a40d85cb342b096b7b2a54ec0195b",
            "style": "IPY_MODEL_9bbcf198632e4aecb1fdc2e980dc82a9",
            "tooltip": "Click me"
          }
        },
        "aa0a40d85cb342b096b7b2a54ec0195b": {
          "model_module": "@jupyter-widgets/base",
          "model_name": "LayoutModel",
          "model_module_version": "1.2.0",
          "state": {
            "_model_module": "@jupyter-widgets/base",
            "_model_module_version": "1.2.0",
            "_model_name": "LayoutModel",
            "_view_count": null,
            "_view_module": "@jupyter-widgets/base",
            "_view_module_version": "1.2.0",
            "_view_name": "LayoutView",
            "align_content": null,
            "align_items": null,
            "align_self": null,
            "border": null,
            "bottom": null,
            "display": null,
            "flex": null,
            "flex_flow": null,
            "grid_area": null,
            "grid_auto_columns": null,
            "grid_auto_flow": null,
            "grid_auto_rows": null,
            "grid_column": null,
            "grid_gap": null,
            "grid_row": null,
            "grid_template_areas": null,
            "grid_template_columns": null,
            "grid_template_rows": null,
            "height": null,
            "justify_content": null,
            "justify_items": null,
            "left": null,
            "margin": null,
            "max_height": null,
            "max_width": null,
            "min_height": null,
            "min_width": null,
            "object_fit": null,
            "object_position": null,
            "order": null,
            "overflow": null,
            "overflow_x": null,
            "overflow_y": null,
            "padding": null,
            "right": null,
            "top": null,
            "visibility": null,
            "width": null
          }
        },
        "9bbcf198632e4aecb1fdc2e980dc82a9": {
          "model_module": "@jupyter-widgets/controls",
          "model_name": "ButtonStyleModel",
          "model_module_version": "1.5.0",
          "state": {
            "_model_module": "@jupyter-widgets/controls",
            "_model_module_version": "1.5.0",
            "_model_name": "ButtonStyleModel",
            "_view_count": null,
            "_view_module": "@jupyter-widgets/base",
            "_view_module_version": "1.2.0",
            "_view_name": "StyleView",
            "button_color": null,
            "font_weight": ""
          }
        },
        "f0c75df84b744e2e92df743c79e639e3": {
          "model_module": "@jupyter-widgets/controls",
          "model_name": "DropdownModel",
          "model_module_version": "1.5.0",
          "state": {
            "_dom_classes": [],
            "_model_module": "@jupyter-widgets/controls",
            "_model_module_version": "1.5.0",
            "_model_name": "DropdownModel",
            "_options_labels": [
              "v SOFTEC",
              "BAILEY DUPONT",
              "MANAGER",
              "HELLO@REALLYGREATSITE.COM",
              "123-456-7890",
              "123 ANYWHERE ST., ANY CITY",
              "WWW.REALLYGREATSITE.COM",
              "| [2 [€| [9]",
              "None"
            ],
            "_view_count": null,
            "_view_module": "@jupyter-widgets/controls",
            "_view_module_version": "1.5.0",
            "_view_name": "DropdownView",
            "description": "Name :",
            "description_tooltip": null,
            "disabled": false,
            "index": 1,
            "layout": "IPY_MODEL_a569bd11453a4013ad15a5adff1f283c",
            "style": "IPY_MODEL_8ef78ddc47de408c97fa597d7ec8b868"
          }
        },
        "a569bd11453a4013ad15a5adff1f283c": {
          "model_module": "@jupyter-widgets/base",
          "model_name": "LayoutModel",
          "model_module_version": "1.2.0",
          "state": {
            "_model_module": "@jupyter-widgets/base",
            "_model_module_version": "1.2.0",
            "_model_name": "LayoutModel",
            "_view_count": null,
            "_view_module": "@jupyter-widgets/base",
            "_view_module_version": "1.2.0",
            "_view_name": "LayoutView",
            "align_content": null,
            "align_items": null,
            "align_self": null,
            "border": null,
            "bottom": null,
            "display": null,
            "flex": null,
            "flex_flow": null,
            "grid_area": null,
            "grid_auto_columns": null,
            "grid_auto_flow": null,
            "grid_auto_rows": null,
            "grid_column": null,
            "grid_gap": null,
            "grid_row": null,
            "grid_template_areas": null,
            "grid_template_columns": null,
            "grid_template_rows": null,
            "height": null,
            "justify_content": null,
            "justify_items": null,
            "left": null,
            "margin": null,
            "max_height": null,
            "max_width": null,
            "min_height": null,
            "min_width": null,
            "object_fit": null,
            "object_position": null,
            "order": null,
            "overflow": null,
            "overflow_x": null,
            "overflow_y": null,
            "padding": null,
            "right": null,
            "top": null,
            "visibility": null,
            "width": "max-content"
          }
        },
        "8ef78ddc47de408c97fa597d7ec8b868": {
          "model_module": "@jupyter-widgets/controls",
          "model_name": "DescriptionStyleModel",
          "model_module_version": "1.5.0",
          "state": {
            "_model_module": "@jupyter-widgets/controls",
            "_model_module_version": "1.5.0",
            "_model_name": "DescriptionStyleModel",
            "_view_count": null,
            "_view_module": "@jupyter-widgets/base",
            "_view_module_version": "1.2.0",
            "_view_name": "StyleView",
            "description_width": ""
          }
        },
        "283188c8d101411991beeb6f6609fef9": {
          "model_module": "@jupyter-widgets/controls",
          "model_name": "DropdownModel",
          "model_module_version": "1.5.0",
          "state": {
            "_dom_classes": [],
            "_model_module": "@jupyter-widgets/controls",
            "_model_module_version": "1.5.0",
            "_model_name": "DropdownModel",
            "_options_labels": [
              "v SOFTEC",
              "BAILEY DUPONT",
              "MANAGER",
              "HELLO@REALLYGREATSITE.COM",
              "123-456-7890",
              "123 ANYWHERE ST., ANY CITY",
              "WWW.REALLYGREATSITE.COM",
              "| [2 [€| [9]",
              "None"
            ],
            "_view_count": null,
            "_view_module": "@jupyter-widgets/controls",
            "_view_module_version": "1.5.0",
            "_view_name": "DropdownView",
            "description": "Role :",
            "description_tooltip": null,
            "disabled": false,
            "index": 2,
            "layout": "IPY_MODEL_b99523b0afae42278c1e8babd4bfbdb8",
            "style": "IPY_MODEL_d4dbb94ef086420aab2befccc0fca89e"
          }
        },
        "b99523b0afae42278c1e8babd4bfbdb8": {
          "model_module": "@jupyter-widgets/base",
          "model_name": "LayoutModel",
          "model_module_version": "1.2.0",
          "state": {
            "_model_module": "@jupyter-widgets/base",
            "_model_module_version": "1.2.0",
            "_model_name": "LayoutModel",
            "_view_count": null,
            "_view_module": "@jupyter-widgets/base",
            "_view_module_version": "1.2.0",
            "_view_name": "LayoutView",
            "align_content": null,
            "align_items": null,
            "align_self": null,
            "border": null,
            "bottom": null,
            "display": null,
            "flex": null,
            "flex_flow": null,
            "grid_area": null,
            "grid_auto_columns": null,
            "grid_auto_flow": null,
            "grid_auto_rows": null,
            "grid_column": null,
            "grid_gap": null,
            "grid_row": null,
            "grid_template_areas": null,
            "grid_template_columns": null,
            "grid_template_rows": null,
            "height": null,
            "justify_content": null,
            "justify_items": null,
            "left": null,
            "margin": null,
            "max_height": null,
            "max_width": null,
            "min_height": null,
            "min_width": null,
            "object_fit": null,
            "object_position": null,
            "order": null,
            "overflow": null,
            "overflow_x": null,
            "overflow_y": null,
            "padding": null,
            "right": null,
            "top": null,
            "visibility": null,
            "width": "max-content"
          }
        },
        "d4dbb94ef086420aab2befccc0fca89e": {
          "model_module": "@jupyter-widgets/controls",
          "model_name": "DescriptionStyleModel",
          "model_module_version": "1.5.0",
          "state": {
            "_model_module": "@jupyter-widgets/controls",
            "_model_module_version": "1.5.0",
            "_model_name": "DescriptionStyleModel",
            "_view_count": null,
            "_view_module": "@jupyter-widgets/base",
            "_view_module_version": "1.2.0",
            "_view_name": "StyleView",
            "description_width": ""
          }
        },
        "5d75b01aa73441829f44643a3c387c18": {
          "model_module": "@jupyter-widgets/controls",
          "model_name": "DropdownModel",
          "model_module_version": "1.5.0",
          "state": {
            "_dom_classes": [],
            "_model_module": "@jupyter-widgets/controls",
            "_model_module_version": "1.5.0",
            "_model_name": "DropdownModel",
            "_options_labels": [
              "v SOFTEC",
              "BAILEY DUPONT",
              "MANAGER",
              "HELLO@REALLYGREATSITE.COM",
              "123-456-7890",
              "123 ANYWHERE ST., ANY CITY",
              "WWW.REALLYGREATSITE.COM",
              "| [2 [€| [9]",
              "None"
            ],
            "_view_count": null,
            "_view_module": "@jupyter-widgets/controls",
            "_view_module_version": "1.5.0",
            "_view_name": "DropdownView",
            "description": "Company :",
            "description_tooltip": null,
            "disabled": false,
            "index": 0,
            "layout": "IPY_MODEL_6f1ec8291d644432ac7e7dfc8bcedf69",
            "style": "IPY_MODEL_77ca5d02052c413cb6b2655751a83790"
          }
        },
        "6f1ec8291d644432ac7e7dfc8bcedf69": {
          "model_module": "@jupyter-widgets/base",
          "model_name": "LayoutModel",
          "model_module_version": "1.2.0",
          "state": {
            "_model_module": "@jupyter-widgets/base",
            "_model_module_version": "1.2.0",
            "_model_name": "LayoutModel",
            "_view_count": null,
            "_view_module": "@jupyter-widgets/base",
            "_view_module_version": "1.2.0",
            "_view_name": "LayoutView",
            "align_content": null,
            "align_items": null,
            "align_self": null,
            "border": null,
            "bottom": null,
            "display": null,
            "flex": null,
            "flex_flow": null,
            "grid_area": null,
            "grid_auto_columns": null,
            "grid_auto_flow": null,
            "grid_auto_rows": null,
            "grid_column": null,
            "grid_gap": null,
            "grid_row": null,
            "grid_template_areas": null,
            "grid_template_columns": null,
            "grid_template_rows": null,
            "height": null,
            "justify_content": null,
            "justify_items": null,
            "left": null,
            "margin": null,
            "max_height": null,
            "max_width": null,
            "min_height": null,
            "min_width": null,
            "object_fit": null,
            "object_position": null,
            "order": null,
            "overflow": null,
            "overflow_x": null,
            "overflow_y": null,
            "padding": null,
            "right": null,
            "top": null,
            "visibility": null,
            "width": "max-content"
          }
        },
        "77ca5d02052c413cb6b2655751a83790": {
          "model_module": "@jupyter-widgets/controls",
          "model_name": "DescriptionStyleModel",
          "model_module_version": "1.5.0",
          "state": {
            "_model_module": "@jupyter-widgets/controls",
            "_model_module_version": "1.5.0",
            "_model_name": "DescriptionStyleModel",
            "_view_count": null,
            "_view_module": "@jupyter-widgets/base",
            "_view_module_version": "1.2.0",
            "_view_name": "StyleView",
            "description_width": ""
          }
        },
        "dbe12f9b96b04a6c9663bb1f660aff5d": {
          "model_module": "@jupyter-widgets/controls",
          "model_name": "DropdownModel",
          "model_module_version": "1.5.0",
          "state": {
            "_dom_classes": [],
            "_model_module": "@jupyter-widgets/controls",
            "_model_module_version": "1.5.0",
            "_model_name": "DropdownModel",
            "_options_labels": [
              "v SOFTEC",
              "BAILEY DUPONT",
              "MANAGER",
              "HELLO@REALLYGREATSITE.COM",
              "123-456-7890",
              "123 ANYWHERE ST., ANY CITY",
              "WWW.REALLYGREATSITE.COM",
              "| [2 [€| [9]",
              "None"
            ],
            "_view_count": null,
            "_view_module": "@jupyter-widgets/controls",
            "_view_module_version": "1.5.0",
            "_view_name": "DropdownView",
            "description": "Email :",
            "description_tooltip": null,
            "disabled": false,
            "index": 3,
            "layout": "IPY_MODEL_fce8a9dcaecf470894a5c724c8d7c263",
            "style": "IPY_MODEL_f1b625a6693a4014a51ca918a02ee514"
          }
        },
        "fce8a9dcaecf470894a5c724c8d7c263": {
          "model_module": "@jupyter-widgets/base",
          "model_name": "LayoutModel",
          "model_module_version": "1.2.0",
          "state": {
            "_model_module": "@jupyter-widgets/base",
            "_model_module_version": "1.2.0",
            "_model_name": "LayoutModel",
            "_view_count": null,
            "_view_module": "@jupyter-widgets/base",
            "_view_module_version": "1.2.0",
            "_view_name": "LayoutView",
            "align_content": null,
            "align_items": null,
            "align_self": null,
            "border": null,
            "bottom": null,
            "display": null,
            "flex": null,
            "flex_flow": null,
            "grid_area": null,
            "grid_auto_columns": null,
            "grid_auto_flow": null,
            "grid_auto_rows": null,
            "grid_column": null,
            "grid_gap": null,
            "grid_row": null,
            "grid_template_areas": null,
            "grid_template_columns": null,
            "grid_template_rows": null,
            "height": null,
            "justify_content": null,
            "justify_items": null,
            "left": null,
            "margin": null,
            "max_height": null,
            "max_width": null,
            "min_height": null,
            "min_width": null,
            "object_fit": null,
            "object_position": null,
            "order": null,
            "overflow": null,
            "overflow_x": null,
            "overflow_y": null,
            "padding": null,
            "right": null,
            "top": null,
            "visibility": null,
            "width": "max-content"
          }
        },
        "f1b625a6693a4014a51ca918a02ee514": {
          "model_module": "@jupyter-widgets/controls",
          "model_name": "DescriptionStyleModel",
          "model_module_version": "1.5.0",
          "state": {
            "_model_module": "@jupyter-widgets/controls",
            "_model_module_version": "1.5.0",
            "_model_name": "DescriptionStyleModel",
            "_view_count": null,
            "_view_module": "@jupyter-widgets/base",
            "_view_module_version": "1.2.0",
            "_view_name": "StyleView",
            "description_width": ""
          }
        },
        "5ed5a5b44ff841ec897afdfe4eb22a28": {
          "model_module": "@jupyter-widgets/controls",
          "model_name": "DropdownModel",
          "model_module_version": "1.5.0",
          "state": {
            "_dom_classes": [],
            "_model_module": "@jupyter-widgets/controls",
            "_model_module_version": "1.5.0",
            "_model_name": "DropdownModel",
            "_options_labels": [
              "v SOFTEC",
              "BAILEY DUPONT",
              "MANAGER",
              "HELLO@REALLYGREATSITE.COM",
              "123-456-7890",
              "123 ANYWHERE ST., ANY CITY",
              "WWW.REALLYGREATSITE.COM",
              "| [2 [€| [9]",
              "None"
            ],
            "_view_count": null,
            "_view_module": "@jupyter-widgets/controls",
            "_view_module_version": "1.5.0",
            "_view_name": "DropdownView",
            "description": "Phone No. :",
            "description_tooltip": null,
            "disabled": false,
            "index": 4,
            "layout": "IPY_MODEL_803c6aca379a4772afb0e9e7d7175bc2",
            "style": "IPY_MODEL_d6f1d00853e6483a97a83c497dbced99"
          }
        },
        "803c6aca379a4772afb0e9e7d7175bc2": {
          "model_module": "@jupyter-widgets/base",
          "model_name": "LayoutModel",
          "model_module_version": "1.2.0",
          "state": {
            "_model_module": "@jupyter-widgets/base",
            "_model_module_version": "1.2.0",
            "_model_name": "LayoutModel",
            "_view_count": null,
            "_view_module": "@jupyter-widgets/base",
            "_view_module_version": "1.2.0",
            "_view_name": "LayoutView",
            "align_content": null,
            "align_items": null,
            "align_self": null,
            "border": null,
            "bottom": null,
            "display": null,
            "flex": null,
            "flex_flow": null,
            "grid_area": null,
            "grid_auto_columns": null,
            "grid_auto_flow": null,
            "grid_auto_rows": null,
            "grid_column": null,
            "grid_gap": null,
            "grid_row": null,
            "grid_template_areas": null,
            "grid_template_columns": null,
            "grid_template_rows": null,
            "height": null,
            "justify_content": null,
            "justify_items": null,
            "left": null,
            "margin": null,
            "max_height": null,
            "max_width": null,
            "min_height": null,
            "min_width": null,
            "object_fit": null,
            "object_position": null,
            "order": null,
            "overflow": null,
            "overflow_x": null,
            "overflow_y": null,
            "padding": null,
            "right": null,
            "top": null,
            "visibility": null,
            "width": "max-content"
          }
        },
        "d6f1d00853e6483a97a83c497dbced99": {
          "model_module": "@jupyter-widgets/controls",
          "model_name": "DescriptionStyleModel",
          "model_module_version": "1.5.0",
          "state": {
            "_model_module": "@jupyter-widgets/controls",
            "_model_module_version": "1.5.0",
            "_model_name": "DescriptionStyleModel",
            "_view_count": null,
            "_view_module": "@jupyter-widgets/base",
            "_view_module_version": "1.2.0",
            "_view_name": "StyleView",
            "description_width": ""
          }
        },
        "fc698c61c18c464dbf34bd31efddd937": {
          "model_module": "@jupyter-widgets/controls",
          "model_name": "DropdownModel",
          "model_module_version": "1.5.0",
          "state": {
            "_dom_classes": [],
            "_model_module": "@jupyter-widgets/controls",
            "_model_module_version": "1.5.0",
            "_model_name": "DropdownModel",
            "_options_labels": [
              "v SOFTEC",
              "BAILEY DUPONT",
              "MANAGER",
              "HELLO@REALLYGREATSITE.COM",
              "123-456-7890",
              "123 ANYWHERE ST., ANY CITY",
              "WWW.REALLYGREATSITE.COM",
              "| [2 [€| [9]",
              "None"
            ],
            "_view_count": null,
            "_view_module": "@jupyter-widgets/controls",
            "_view_module_version": "1.5.0",
            "_view_name": "DropdownView",
            "description": "Website :",
            "description_tooltip": null,
            "disabled": false,
            "index": 6,
            "layout": "IPY_MODEL_aeb142ec7b1d41e5be4d5a7a2ea9ee0f",
            "style": "IPY_MODEL_d4f15277ead047868263bea82878aa17"
          }
        },
        "aeb142ec7b1d41e5be4d5a7a2ea9ee0f": {
          "model_module": "@jupyter-widgets/base",
          "model_name": "LayoutModel",
          "model_module_version": "1.2.0",
          "state": {
            "_model_module": "@jupyter-widgets/base",
            "_model_module_version": "1.2.0",
            "_model_name": "LayoutModel",
            "_view_count": null,
            "_view_module": "@jupyter-widgets/base",
            "_view_module_version": "1.2.0",
            "_view_name": "LayoutView",
            "align_content": null,
            "align_items": null,
            "align_self": null,
            "border": null,
            "bottom": null,
            "display": null,
            "flex": null,
            "flex_flow": null,
            "grid_area": null,
            "grid_auto_columns": null,
            "grid_auto_flow": null,
            "grid_auto_rows": null,
            "grid_column": null,
            "grid_gap": null,
            "grid_row": null,
            "grid_template_areas": null,
            "grid_template_columns": null,
            "grid_template_rows": null,
            "height": null,
            "justify_content": null,
            "justify_items": null,
            "left": null,
            "margin": null,
            "max_height": null,
            "max_width": null,
            "min_height": null,
            "min_width": null,
            "object_fit": null,
            "object_position": null,
            "order": null,
            "overflow": null,
            "overflow_x": null,
            "overflow_y": null,
            "padding": null,
            "right": null,
            "top": null,
            "visibility": null,
            "width": "max-content"
          }
        },
        "d4f15277ead047868263bea82878aa17": {
          "model_module": "@jupyter-widgets/controls",
          "model_name": "DescriptionStyleModel",
          "model_module_version": "1.5.0",
          "state": {
            "_model_module": "@jupyter-widgets/controls",
            "_model_module_version": "1.5.0",
            "_model_name": "DescriptionStyleModel",
            "_view_count": null,
            "_view_module": "@jupyter-widgets/base",
            "_view_module_version": "1.2.0",
            "_view_name": "StyleView",
            "description_width": ""
          }
        },
        "947083f62b894702bf0d368f196b689e": {
          "model_module": "@jupyter-widgets/controls",
          "model_name": "DropdownModel",
          "model_module_version": "1.5.0",
          "state": {
            "_dom_classes": [],
            "_model_module": "@jupyter-widgets/controls",
            "_model_module_version": "1.5.0",
            "_model_name": "DropdownModel",
            "_options_labels": [
              "v SOFTEC",
              "BAILEY DUPONT",
              "MANAGER",
              "HELLO@REALLYGREATSITE.COM",
              "123-456-7890",
              "123 ANYWHERE ST., ANY CITY",
              "WWW.REALLYGREATSITE.COM",
              "| [2 [€| [9]",
              "None"
            ],
            "_view_count": null,
            "_view_module": "@jupyter-widgets/controls",
            "_view_module_version": "1.5.0",
            "_view_name": "DropdownView",
            "description": "Address :",
            "description_tooltip": null,
            "disabled": false,
            "index": 5,
            "layout": "IPY_MODEL_dc2ad1cd6b4d47dcaf6de52b8338eb73",
            "style": "IPY_MODEL_32ab414d8c164b318c12bdbc4f6d044b"
          }
        },
        "dc2ad1cd6b4d47dcaf6de52b8338eb73": {
          "model_module": "@jupyter-widgets/base",
          "model_name": "LayoutModel",
          "model_module_version": "1.2.0",
          "state": {
            "_model_module": "@jupyter-widgets/base",
            "_model_module_version": "1.2.0",
            "_model_name": "LayoutModel",
            "_view_count": null,
            "_view_module": "@jupyter-widgets/base",
            "_view_module_version": "1.2.0",
            "_view_name": "LayoutView",
            "align_content": null,
            "align_items": null,
            "align_self": null,
            "border": null,
            "bottom": null,
            "display": null,
            "flex": null,
            "flex_flow": null,
            "grid_area": null,
            "grid_auto_columns": null,
            "grid_auto_flow": null,
            "grid_auto_rows": null,
            "grid_column": null,
            "grid_gap": null,
            "grid_row": null,
            "grid_template_areas": null,
            "grid_template_columns": null,
            "grid_template_rows": null,
            "height": null,
            "justify_content": null,
            "justify_items": null,
            "left": null,
            "margin": null,
            "max_height": null,
            "max_width": null,
            "min_height": null,
            "min_width": null,
            "object_fit": null,
            "object_position": null,
            "order": null,
            "overflow": null,
            "overflow_x": null,
            "overflow_y": null,
            "padding": null,
            "right": null,
            "top": null,
            "visibility": null,
            "width": "max-content"
          }
        },
        "32ab414d8c164b318c12bdbc4f6d044b": {
          "model_module": "@jupyter-widgets/controls",
          "model_name": "DescriptionStyleModel",
          "model_module_version": "1.5.0",
          "state": {
            "_model_module": "@jupyter-widgets/controls",
            "_model_module_version": "1.5.0",
            "_model_name": "DescriptionStyleModel",
            "_view_count": null,
            "_view_module": "@jupyter-widgets/base",
            "_view_module_version": "1.2.0",
            "_view_name": "StyleView",
            "description_width": ""
          }
        },
        "c82eb3c286cf4f28a986802b960cea56": {
          "model_module": "@jupyter-widgets/controls",
          "model_name": "ButtonModel",
          "model_module_version": "1.5.0",
          "state": {
            "_dom_classes": [],
            "_model_module": "@jupyter-widgets/controls",
            "_model_module_version": "1.5.0",
            "_model_name": "ButtonModel",
            "_view_count": null,
            "_view_module": "@jupyter-widgets/controls",
            "_view_module_version": "1.5.0",
            "_view_name": "ButtonView",
            "button_style": "success",
            "description": "Save",
            "disabled": false,
            "icon": "",
            "layout": "IPY_MODEL_ca5f8fcc72364af3959298ef203f7741",
            "style": "IPY_MODEL_d5b595cb60da42c583ebae5ee3261cc0",
            "tooltip": "Click me"
          }
        },
        "ca5f8fcc72364af3959298ef203f7741": {
          "model_module": "@jupyter-widgets/base",
          "model_name": "LayoutModel",
          "model_module_version": "1.2.0",
          "state": {
            "_model_module": "@jupyter-widgets/base",
            "_model_module_version": "1.2.0",
            "_model_name": "LayoutModel",
            "_view_count": null,
            "_view_module": "@jupyter-widgets/base",
            "_view_module_version": "1.2.0",
            "_view_name": "LayoutView",
            "align_content": null,
            "align_items": null,
            "align_self": null,
            "border": null,
            "bottom": null,
            "display": null,
            "flex": null,
            "flex_flow": null,
            "grid_area": null,
            "grid_auto_columns": null,
            "grid_auto_flow": null,
            "grid_auto_rows": null,
            "grid_column": null,
            "grid_gap": null,
            "grid_row": null,
            "grid_template_areas": null,
            "grid_template_columns": null,
            "grid_template_rows": null,
            "height": null,
            "justify_content": null,
            "justify_items": null,
            "left": null,
            "margin": null,
            "max_height": null,
            "max_width": null,
            "min_height": null,
            "min_width": null,
            "object_fit": null,
            "object_position": null,
            "order": null,
            "overflow": null,
            "overflow_x": null,
            "overflow_y": null,
            "padding": null,
            "right": null,
            "top": null,
            "visibility": null,
            "width": null
          }
        },
        "d5b595cb60da42c583ebae5ee3261cc0": {
          "model_module": "@jupyter-widgets/controls",
          "model_name": "ButtonStyleModel",
          "model_module_version": "1.5.0",
          "state": {
            "_model_module": "@jupyter-widgets/controls",
            "_model_module_version": "1.5.0",
            "_model_name": "ButtonStyleModel",
            "_view_count": null,
            "_view_module": "@jupyter-widgets/base",
            "_view_module_version": "1.2.0",
            "_view_name": "StyleView",
            "button_color": null,
            "font_weight": ""
          }
        },
        "3913b82121744ba1b9cfd948130f2e3b": {
          "model_module": "@jupyter-widgets/controls",
          "model_name": "ButtonModel",
          "model_module_version": "1.5.0",
          "state": {
            "_dom_classes": [],
            "_model_module": "@jupyter-widgets/controls",
            "_model_module_version": "1.5.0",
            "_model_name": "ButtonModel",
            "_view_count": null,
            "_view_module": "@jupyter-widgets/controls",
            "_view_module_version": "1.5.0",
            "_view_name": "ButtonView",
            "button_style": "warning",
            "description": "Reset",
            "disabled": false,
            "icon": "",
            "layout": "IPY_MODEL_9e82183f1a1b40c3bfba9b86215256d8",
            "style": "IPY_MODEL_6f65c611ef734761a1e8dda47a6358d4",
            "tooltip": "Click me"
          }
        },
        "9e82183f1a1b40c3bfba9b86215256d8": {
          "model_module": "@jupyter-widgets/base",
          "model_name": "LayoutModel",
          "model_module_version": "1.2.0",
          "state": {
            "_model_module": "@jupyter-widgets/base",
            "_model_module_version": "1.2.0",
            "_model_name": "LayoutModel",
            "_view_count": null,
            "_view_module": "@jupyter-widgets/base",
            "_view_module_version": "1.2.0",
            "_view_name": "LayoutView",
            "align_content": null,
            "align_items": null,
            "align_self": null,
            "border": null,
            "bottom": null,
            "display": null,
            "flex": null,
            "flex_flow": null,
            "grid_area": null,
            "grid_auto_columns": null,
            "grid_auto_flow": null,
            "grid_auto_rows": null,
            "grid_column": null,
            "grid_gap": null,
            "grid_row": null,
            "grid_template_areas": null,
            "grid_template_columns": null,
            "grid_template_rows": null,
            "height": null,
            "justify_content": null,
            "justify_items": null,
            "left": null,
            "margin": null,
            "max_height": null,
            "max_width": null,
            "min_height": null,
            "min_width": null,
            "object_fit": null,
            "object_position": null,
            "order": null,
            "overflow": null,
            "overflow_x": null,
            "overflow_y": null,
            "padding": null,
            "right": null,
            "top": null,
            "visibility": null,
            "width": null
          }
        },
        "6f65c611ef734761a1e8dda47a6358d4": {
          "model_module": "@jupyter-widgets/controls",
          "model_name": "ButtonStyleModel",
          "model_module_version": "1.5.0",
          "state": {
            "_model_module": "@jupyter-widgets/controls",
            "_model_module_version": "1.5.0",
            "_model_name": "ButtonStyleModel",
            "_view_count": null,
            "_view_module": "@jupyter-widgets/base",
            "_view_module_version": "1.2.0",
            "_view_name": "StyleView",
            "button_color": null,
            "font_weight": ""
          }
        }
      }
    }
  },
  "cells": [
    {
      "cell_type": "markdown",
      "metadata": {
        "id": "view-in-github",
        "colab_type": "text"
      },
      "source": [
        "<a href=\"https://colab.research.google.com/github/nimarta-devi/card_scanner/blob/main/business_card_scanner.ipynb\" target=\"_parent\"><img src=\"https://colab.research.google.com/assets/colab-badge.svg\" alt=\"Open In Colab\"/></a>"
      ]
    },
    {
      "cell_type": "markdown",
      "source": [
        "### ONLY run this cell once, then the kernel will automatically restart runtime. You can run the 2nd cell without run this cell again "
      ],
      "metadata": {
        "id": "3GUtrotDTScS"
      }
    },
    {
      "cell_type": "code",
      "source": [
        "!sudo apt install tesseract-ocr\n",
        "!pip install pytesseract\n",
        "!pip install --ignore-installed Pillow==9.0.0\n",
        "!pip install fpdf\n",
        "\n",
        "from IPython.display import clear_output\n",
        "\n",
        "clear_output()\n",
        "exit()"
      ],
      "metadata": {
        "id": "jp-OiR4iGZbb"
      },
      "execution_count": null,
      "outputs": []
    },
    {
      "cell_type": "markdown",
      "source": [
        "### Program section"
      ],
      "metadata": {
        "id": "sONYvW9gTXdg"
      }
    },
    {
      "cell_type": "code",
      "source": [
        "from fpdf import FPDF\n",
        "from IPython.display import clear_output\n",
        "import os\n",
        "import cv2 as cv\n",
        "import matplotlib.pyplot as plt\n",
        "from google.colab import files \n",
        "import ipywidgets as widgets\n",
        "import numpy as np\n",
        "import pytesseract\n",
        "import shutil\n",
        "import random\n",
        "try:\n",
        "    from PIL import Image\n",
        "except ImportError:\n",
        "    import Image\n",
        "\n",
        "clear_output()"
      ],
      "metadata": {
        "id": "YVxaT9Wou9fZ"
      },
      "execution_count": null,
      "outputs": []
    },
    {
      "cell_type": "code",
      "source": [
        "# Upload Image file\n",
        "try:\n",
        "  os.remove(newname)\n",
        "except:\n",
        "  pass\n",
        "uploaded = files.upload()\n",
        "for fn in uploaded.keys():\n",
        "  oldname = fn\n",
        "\n",
        "filetype = oldname.split('.')[-1]\n",
        "newname = \"card_img.\" + filetype\n",
        "os.rename(oldname, newname)\n",
        "path = \"/content/\" + newname\n",
        "\n",
        "# initialize Variable\n",
        "widthImg = 1920\n",
        "heightImg = 1080\n",
        "lower = 100\n",
        "upper = 150\n",
        "kernel = np.ones((5,5)) \n",
        "NAME = \"\"\n",
        "ROLE = \"\"\n",
        "COMPANY = \"\"\n",
        "EMAIL = \"\"\n",
        "PHONE = \"\"\n",
        "WEBSITE = \"\"\n",
        "ADDRESS = \"\"\n",
        "\n",
        "# Read uploaded image\n",
        "img_card = cv.imread(path)\n",
        "img_card = cv.cvtColor(img_card, cv.COLOR_BGR2RGB)\n",
        "\n",
        "\n",
        "# 1 convert to gray image\n",
        "imgGray = cv.cvtColor(img_card, cv.COLOR_RGB2GRAY)\n",
        "\n",
        "# 2 apply gaussian blur\n",
        "imgBlur = cv.GaussianBlur(imgGray, (5, 5), 1)\n",
        "\n",
        "plt.imshow(img_card)"
      ],
      "metadata": {
        "colab": {
          "base_uri": "https://localhost:8080/",
          "height": 342
        },
        "id": "EMuLo7CQQgkn",
        "outputId": "c61c2057-4429-49fe-ff72-f802af27fa26"
      },
      "execution_count": null,
      "outputs": [
        {
          "output_type": "display_data",
          "data": {
            "text/plain": [
              "<IPython.core.display.HTML object>"
            ],
            "text/html": [
              "\n",
              "     <input type=\"file\" id=\"files-1fcaae6e-f1ed-45c6-a918-9610b4895a3f\" name=\"files[]\" multiple disabled\n",
              "        style=\"border:none\" />\n",
              "     <output id=\"result-1fcaae6e-f1ed-45c6-a918-9610b4895a3f\">\n",
              "      Upload widget is only available when the cell has been executed in the\n",
              "      current browser session. Please rerun this cell to enable.\n",
              "      </output>\n",
              "      <script>// Copyright 2017 Google LLC\n",
              "//\n",
              "// Licensed under the Apache License, Version 2.0 (the \"License\");\n",
              "// you may not use this file except in compliance with the License.\n",
              "// You may obtain a copy of the License at\n",
              "//\n",
              "//      http://www.apache.org/licenses/LICENSE-2.0\n",
              "//\n",
              "// Unless required by applicable law or agreed to in writing, software\n",
              "// distributed under the License is distributed on an \"AS IS\" BASIS,\n",
              "// WITHOUT WARRANTIES OR CONDITIONS OF ANY KIND, either express or implied.\n",
              "// See the License for the specific language governing permissions and\n",
              "// limitations under the License.\n",
              "\n",
              "/**\n",
              " * @fileoverview Helpers for google.colab Python module.\n",
              " */\n",
              "(function(scope) {\n",
              "function span(text, styleAttributes = {}) {\n",
              "  const element = document.createElement('span');\n",
              "  element.textContent = text;\n",
              "  for (const key of Object.keys(styleAttributes)) {\n",
              "    element.style[key] = styleAttributes[key];\n",
              "  }\n",
              "  return element;\n",
              "}\n",
              "\n",
              "// Max number of bytes which will be uploaded at a time.\n",
              "const MAX_PAYLOAD_SIZE = 100 * 1024;\n",
              "\n",
              "function _uploadFiles(inputId, outputId) {\n",
              "  const steps = uploadFilesStep(inputId, outputId);\n",
              "  const outputElement = document.getElementById(outputId);\n",
              "  // Cache steps on the outputElement to make it available for the next call\n",
              "  // to uploadFilesContinue from Python.\n",
              "  outputElement.steps = steps;\n",
              "\n",
              "  return _uploadFilesContinue(outputId);\n",
              "}\n",
              "\n",
              "// This is roughly an async generator (not supported in the browser yet),\n",
              "// where there are multiple asynchronous steps and the Python side is going\n",
              "// to poll for completion of each step.\n",
              "// This uses a Promise to block the python side on completion of each step,\n",
              "// then passes the result of the previous step as the input to the next step.\n",
              "function _uploadFilesContinue(outputId) {\n",
              "  const outputElement = document.getElementById(outputId);\n",
              "  const steps = outputElement.steps;\n",
              "\n",
              "  const next = steps.next(outputElement.lastPromiseValue);\n",
              "  return Promise.resolve(next.value.promise).then((value) => {\n",
              "    // Cache the last promise value to make it available to the next\n",
              "    // step of the generator.\n",
              "    outputElement.lastPromiseValue = value;\n",
              "    return next.value.response;\n",
              "  });\n",
              "}\n",
              "\n",
              "/**\n",
              " * Generator function which is called between each async step of the upload\n",
              " * process.\n",
              " * @param {string} inputId Element ID of the input file picker element.\n",
              " * @param {string} outputId Element ID of the output display.\n",
              " * @return {!Iterable<!Object>} Iterable of next steps.\n",
              " */\n",
              "function* uploadFilesStep(inputId, outputId) {\n",
              "  const inputElement = document.getElementById(inputId);\n",
              "  inputElement.disabled = false;\n",
              "\n",
              "  const outputElement = document.getElementById(outputId);\n",
              "  outputElement.innerHTML = '';\n",
              "\n",
              "  const pickedPromise = new Promise((resolve) => {\n",
              "    inputElement.addEventListener('change', (e) => {\n",
              "      resolve(e.target.files);\n",
              "    });\n",
              "  });\n",
              "\n",
              "  const cancel = document.createElement('button');\n",
              "  inputElement.parentElement.appendChild(cancel);\n",
              "  cancel.textContent = 'Cancel upload';\n",
              "  const cancelPromise = new Promise((resolve) => {\n",
              "    cancel.onclick = () => {\n",
              "      resolve(null);\n",
              "    };\n",
              "  });\n",
              "\n",
              "  // Wait for the user to pick the files.\n",
              "  const files = yield {\n",
              "    promise: Promise.race([pickedPromise, cancelPromise]),\n",
              "    response: {\n",
              "      action: 'starting',\n",
              "    }\n",
              "  };\n",
              "\n",
              "  cancel.remove();\n",
              "\n",
              "  // Disable the input element since further picks are not allowed.\n",
              "  inputElement.disabled = true;\n",
              "\n",
              "  if (!files) {\n",
              "    return {\n",
              "      response: {\n",
              "        action: 'complete',\n",
              "      }\n",
              "    };\n",
              "  }\n",
              "\n",
              "  for (const file of files) {\n",
              "    const li = document.createElement('li');\n",
              "    li.append(span(file.name, {fontWeight: 'bold'}));\n",
              "    li.append(span(\n",
              "        `(${file.type || 'n/a'}) - ${file.size} bytes, ` +\n",
              "        `last modified: ${\n",
              "            file.lastModifiedDate ? file.lastModifiedDate.toLocaleDateString() :\n",
              "                                    'n/a'} - `));\n",
              "    const percent = span('0% done');\n",
              "    li.appendChild(percent);\n",
              "\n",
              "    outputElement.appendChild(li);\n",
              "\n",
              "    const fileDataPromise = new Promise((resolve) => {\n",
              "      const reader = new FileReader();\n",
              "      reader.onload = (e) => {\n",
              "        resolve(e.target.result);\n",
              "      };\n",
              "      reader.readAsArrayBuffer(file);\n",
              "    });\n",
              "    // Wait for the data to be ready.\n",
              "    let fileData = yield {\n",
              "      promise: fileDataPromise,\n",
              "      response: {\n",
              "        action: 'continue',\n",
              "      }\n",
              "    };\n",
              "\n",
              "    // Use a chunked sending to avoid message size limits. See b/62115660.\n",
              "    let position = 0;\n",
              "    do {\n",
              "      const length = Math.min(fileData.byteLength - position, MAX_PAYLOAD_SIZE);\n",
              "      const chunk = new Uint8Array(fileData, position, length);\n",
              "      position += length;\n",
              "\n",
              "      const base64 = btoa(String.fromCharCode.apply(null, chunk));\n",
              "      yield {\n",
              "        response: {\n",
              "          action: 'append',\n",
              "          file: file.name,\n",
              "          data: base64,\n",
              "        },\n",
              "      };\n",
              "\n",
              "      let percentDone = fileData.byteLength === 0 ?\n",
              "          100 :\n",
              "          Math.round((position / fileData.byteLength) * 100);\n",
              "      percent.textContent = `${percentDone}% done`;\n",
              "\n",
              "    } while (position < fileData.byteLength);\n",
              "  }\n",
              "\n",
              "  // All done.\n",
              "  yield {\n",
              "    response: {\n",
              "      action: 'complete',\n",
              "    }\n",
              "  };\n",
              "}\n",
              "\n",
              "scope.google = scope.google || {};\n",
              "scope.google.colab = scope.google.colab || {};\n",
              "scope.google.colab._files = {\n",
              "  _uploadFiles,\n",
              "  _uploadFilesContinue,\n",
              "};\n",
              "})(self);\n",
              "</script> "
            ]
          },
          "metadata": {}
        },
        {
          "output_type": "stream",
          "name": "stdout",
          "text": [
            "Saving Ingoude Company (2).png to Ingoude Company (2).png\n"
          ]
        },
        {
          "output_type": "execute_result",
          "data": {
            "text/plain": [
              "<matplotlib.image.AxesImage at 0x7fb5905d1b20>"
            ]
          },
          "metadata": {},
          "execution_count": 41
        },
        {
          "output_type": "display_data",
          "data": {
            "text/plain": [
              "<Figure size 432x288 with 1 Axes>"
            ],
            "image/png": "[encoded data removed]"
          },
          "metadata": {
            "needs_background": "light"
          }
        }
      ]
    },
    {
      "cell_type": "code",
      "source": [
        "def threshBar():\n",
        "\n",
        "  threshBar.btn = widgets.Button(\n",
        "    description = 'Canny Edge Detect',\n",
        "    disabled = False,\n",
        "    button_style = 'success',\n",
        "    tooltip = 'Click me',\n",
        "  )\n",
        "\n",
        "  threshBar.lowerThresh = widgets.IntSlider(\n",
        "                          value=100,\n",
        "                          min=0,\n",
        "                          max=255,\n",
        "                          step=1,\n",
        "                          description='lower threshold:',\n",
        "                          disabled=False,\n",
        "                          continuous_update=True,\n",
        "                          orientation='horizontal',\n",
        "                          readout=True,\n",
        "                          readout_format='d'\n",
        "                      )\n",
        "  threshBar.upperThresh = widgets.IntSlider(\n",
        "                          value=150,\n",
        "                          min=0,\n",
        "                          max=255,\n",
        "                          step=1,\n",
        "                          description='upper threshold:',\n",
        "                          disabled=False,\n",
        "                          continuous_update=True,\n",
        "                          orientation='horizontal',\n",
        "                          readout=True,\n",
        "                          readout_format='d'\n",
        "                          )\n",
        "\n",
        "  def btn_clicked(b):\n",
        "    global lower\n",
        "    global upper\n",
        "    lower = threshBar.lowerThresh.value\n",
        "    upper = threshBar.upperThresh.value\n",
        "    clear_output()\n",
        "    display(threshBar.lowerThresh)\n",
        "    display(threshBar.upperThresh)\n",
        "    display(threshBar.btn)\n",
        "    print(\"Lower thresh = {}\".format(lower))\n",
        "    print(\"Upper thresh = {}\".format(upper))\n",
        "    imgThreshold = cv.Canny(imgBlur, lower, upper)\n",
        "    plt.imshow(imgThreshold, cmap = 'gray', vmin=0, vmax=255)\n",
        "\n",
        "  threshBar.btn.on_click(btn_clicked)\n",
        "  display(threshBar.lowerThresh)\n",
        "  display(threshBar.upperThresh)\n",
        "  display(threshBar.btn)\n",
        "  imgThreshold = cv.Canny(imgBlur, lower, upper)\n",
        "  plt.imshow(imgThreshold, cmap = 'gray', vmin=0, vmax=255)\n",
        "\n",
        "# // Adjust lower and upper threshold value from int sliders //\n",
        "threshBar()"
      ],
      "metadata": {
        "colab": {
          "base_uri": "https://localhost:8080/",
          "height": 398,
          "referenced_widgets": [
            "379b48a582424c47bfe7f0b05f82cc83",
            "e0486a9abb8a492eb8a2c84d9fbf60ad",
            "ed9b969eadf044bc97a535e6e7905fea",
            "e3f7bfd4e77746b5b6e90e0fddc2204c",
            "461c33b6bab24ebdaebb2c3cd5a794ca",
            "e7a93bb762594acbbb1e48be5f0000ee",
            "c808cdbee8e5451bb3a8e93c580cfc0a",
            "aa0a40d85cb342b096b7b2a54ec0195b",
            "9bbcf198632e4aecb1fdc2e980dc82a9"
          ]
        },
        "id": "E8-OV3P12JEK",
        "outputId": "8a8faa3d-44ce-44bc-dd9a-133a0f0b0c4d"
      },
      "execution_count": null,
      "outputs": [
        {
          "output_type": "display_data",
          "data": {
            "text/plain": [
              "IntSlider(value=204, description='lower threshold:', max=255)"
            ],
            "application/vnd.jupyter.widget-view+json": {
              "version_major": 2,
              "version_minor": 0,
              "model_id": "379b48a582424c47bfe7f0b05f82cc83"
            }
          },
          "metadata": {}
        },
        {
          "output_type": "display_data",
          "data": {
            "text/plain": [
              "IntSlider(value=255, description='upper threshold:', max=255)"
            ],
            "application/vnd.jupyter.widget-view+json": {
              "version_major": 2,
              "version_minor": 0,
              "model_id": "e3f7bfd4e77746b5b6e90e0fddc2204c"
            }
          },
          "metadata": {}
        },
        {
          "output_type": "display_data",
          "data": {
            "text/plain": [
              "Button(button_style='success', description='Canny Edge Detect', style=ButtonStyle(), tooltip='Click me')"
            ],
            "application/vnd.jupyter.widget-view+json": {
              "version_major": 2,
              "version_minor": 0,
              "model_id": "c808cdbee8e5451bb3a8e93c580cfc0a"
            }
          },
          "metadata": {}
        },
        {
          "output_type": "stream",
          "name": "stdout",
          "text": [
            "Lower thresh = 204\n",
            "Upper thresh = 255\n"
          ]
        },
        {
          "output_type": "display_data",
          "data": {
            "text/plain": [
              "<Figure size 432x288 with 1 Axes>"
            ],
            "image/png": "[encoded data removed]"
          },
          "metadata": {
            "needs_background": "light"
          }
        }
      ]
    },
    {
      "cell_type": "code",
      "source": [
        "# 3 Apply Canny Edge detection\n",
        "imgThreshold = cv.Canny(imgBlur, lower, upper)\n",
        "\n",
        "# 4 Apply Dilation\n",
        "imgDial = cv.dilate(imgThreshold, kernel, iterations=2)\n",
        "\n",
        "# 5 Apply Erosion\n",
        "imgErode = cv.erode(imgDial, kernel, iterations=1)\n",
        "\n",
        "# 6 Find Contour\n",
        "contours, hierarchy = cv.findContours(imgErode, cv.RETR_EXTERNAL, cv.CHAIN_APPROX_SIMPLE)\n",
        "\n",
        "# // Draw all Contour //\n",
        "imgContours = img_card.copy()\n",
        "cv.drawContours(imgContours, contours, -1, (0, 255, 0), 10)\n",
        "plt.imshow(imgContours)"
      ],
      "metadata": {
        "colab": {
          "base_uri": "https://localhost:8080/",
          "height": 286
        },
        "id": "Yool4jpGuwFJ",
        "outputId": "e19b5fc9-8234-413d-ece0-b43820c0331e"
      },
      "execution_count": null,
      "outputs": [
        {
          "output_type": "execute_result",
          "data": {
            "text/plain": [
              "<matplotlib.image.AxesImage at 0x7fb590045220>"
            ]
          },
          "metadata": {},
          "execution_count": 43
        },
        {
          "output_type": "display_data",
          "data": {
            "text/plain": [
              "<Figure size 432x288 with 1 Axes>"
            ],
            "image/png": "[encoded data removed]"
          },
          "metadata": {
            "needs_background": "light"
          }
        }
      ]
    },
    {
      "cell_type": "code",
      "source": [
        "# 7 Find biggest Contour\n",
        "biggest = np.array([])\n",
        "max_area = 0\n",
        "for i in contours:\n",
        "    area = cv.contourArea(i)\n",
        "    if area > 5000:\n",
        "        peri = cv.arcLength(i, True)\n",
        "        approx = cv.approxPolyDP(i, 0.02 * peri, True)\n",
        "        if area > max_area and len(approx) == 4:\n",
        "            biggest = approx\n",
        "            max_area = area\n",
        "\n",
        "# 8 Reorder 4 points of contour's corner\n",
        "myPoints = biggest      \n",
        "myPoints = myPoints.reshape((4, 2))\n",
        "myPointsNew = np.zeros((4, 1, 2), dtype=np.int32)\n",
        "add = myPoints.sum(1)\n",
        "\n",
        "myPointsNew[0] = myPoints[np.argmin(add)]\n",
        "myPointsNew[3] =myPoints[np.argmax(add)]\n",
        "diff = np.diff(myPoints, axis=1)\n",
        "myPointsNew[1] =myPoints[np.argmin(diff)]\n",
        "myPointsNew[2] = myPoints[np.argmax(diff)]\n",
        "biggest_new = myPointsNew\n",
        "\n",
        "# 9 Perform Perspective crop\n",
        "pts1 = np.float32(biggest_new)\n",
        "pts2 = np.float32([[0, 0],[widthImg, 0], [0, heightImg], [widthImg, heightImg]])\n",
        "matrix = cv.getPerspectiveTransform(pts1, pts2)\n",
        "imgWarp = cv.warpPerspective(img_card, matrix, (widthImg, heightImg))\n",
        "imgWarp = cv.resize(imgWarp, (widthImg, heightImg),interpolation = cv.INTER_AREA)\n",
        "img_temp = imgWarp.copy()\n",
        "img_temp = cv.cvtColor(img_temp, cv.COLOR_RGB2BGR)\n",
        "cv.imwrite('colored_img.jpg', img_temp)\n",
        "\n",
        "plt.imshow(imgWarp)"
      ],
      "metadata": {
        "colab": {
          "base_uri": "https://localhost:8080/",
          "height": 257
        },
        "id": "dc3avnre20yF",
        "outputId": "d945158c-b736-4824-d576-e0eb86ce8485"
      },
      "execution_count": null,
      "outputs": [
        {
          "output_type": "execute_result",
          "data": {
            "text/plain": [
              "<matplotlib.image.AxesImage at 0x7fb59009efd0>"
            ]
          },
          "metadata": {},
          "execution_count": 44
        },
        {
          "output_type": "display_data",
          "data": {
            "text/plain": [
              "<Figure size 432x288 with 1 Axes>"
            ],
            "image/png": "[encoded data removed]"
          },
          "metadata": {
            "needs_background": "light"
          }
        }
      ]
    },
    {
      "cell_type": "code",
      "source": [
        "# // Convert cropped image to gray scale //\n",
        "imgWarp = cv.cvtColor(imgWarp,cv.COLOR_RGB2GRAY)\n",
        "\n",
        "# 10 Apply adaptive threshold\n",
        "imgAdaptiveThre = cv.adaptiveThreshold(imgWarp, 255, 1, 1, 7, 2)\n",
        "imgAdaptiveThre = cv.bitwise_not(imgAdaptiveThre)\n",
        "\n",
        "# 11 Apply median blur\n",
        "imgMed = cv.medianBlur(imgAdaptiveThre, 3)\n",
        "\n",
        "cv.imwrite('scanned_card.jpg', imgMed) \n",
        "img_scan = cv.imread('scanned_card.jpg')\n",
        "plt.imshow(img_scan)"
      ],
      "metadata": {
        "colab": {
          "base_uri": "https://localhost:8080/",
          "height": 257
        },
        "id": "U84CQT-fyI49",
        "outputId": "82cfdefa-e308-4fd6-efe8-74ab13a47740"
      },
      "execution_count": null,
      "outputs": [
        {
          "output_type": "execute_result",
          "data": {
            "text/plain": [
              "<matplotlib.image.AxesImage at 0x7fb58a12e100>"
            ]
          },
          "metadata": {},
          "execution_count": 45
        },
        {
          "output_type": "display_data",
          "data": {
            "text/plain": [
              "<Figure size 432x288 with 1 Axes>"
            ],
            "image/png": "[encoded data removed]"
          },
          "metadata": {
            "needs_background": "light"
          }
        }
      ]
    },
    {
      "cell_type": "code",
      "source": [
        "# Extract text from card using google tesseract Optical character recognition\n",
        "extractedInformation = pytesseract.image_to_string(Image.open('scanned_card.jpg'))\n",
        "\n",
        "# Get rid of some OCR error text extraction\n",
        "splt = extractedInformation.split('\\n')\n",
        "for i in range(len(splt)-1, -1, -1):\n",
        "  if len(splt[i]) < 4:\n",
        "    del splt[i]\n",
        "  else:\n",
        "    space = True\n",
        "    for j in splt[i]:\n",
        "      if j != ' ' and j != '\\t':\n",
        "        space = False\n",
        "    if space:\n",
        "      del splt[i]\n",
        "splt.append('None')"
      ],
      "metadata": {
        "id": "tVFQcMI36Eem"
      },
      "execution_count": null,
      "outputs": []
    },
    {
      "cell_type": "code",
      "source": [
        "def infoSelect():\n",
        "  infoSelect.name = widgets.Dropdown(\n",
        "    options = splt,\n",
        "    value = 'None',\n",
        "    description = 'Name :',\n",
        "    disabled = False,\n",
        "    layout={'width': 'max-content'}\n",
        "  )\n",
        "  \n",
        "  infoSelect.jobRole = widgets.Dropdown(\n",
        "    options = splt,\n",
        "    value = 'None',\n",
        "    description = 'Role :',\n",
        "    disabled = False,\n",
        "    layout={'width': 'max-content'}\n",
        "  )\n",
        "\n",
        "  infoSelect.email = widgets.Dropdown(\n",
        "    options = splt,\n",
        "    value = 'None',\n",
        "    description = 'Email :',\n",
        "    disabled = False,\n",
        "    layout={'width': 'max-content'}\n",
        "  )\n",
        "\n",
        "  infoSelect.phone = widgets.Dropdown(\n",
        "    options = splt,\n",
        "    value = 'None',\n",
        "    description = 'Phone No. :',\n",
        "    disabled = False,\n",
        "    layout={'width': 'max-content'}\n",
        "  )\n",
        "\n",
        "  infoSelect.address = widgets.Dropdown(\n",
        "    options = splt,\n",
        "    value = 'None',\n",
        "    description = 'Role :',\n",
        "    disabled = False,\n",
        "    layout={'width': 'max-content'}\n",
        "  )\n",
        "\n",
        "  infoSelect.company = widgets.Dropdown(\n",
        "    options = splt,\n",
        "    value = 'None',\n",
        "    description = 'Company :',\n",
        "    disabled = False,\n",
        "    layout={'width': 'max-content'}\n",
        "  )\n",
        "\n",
        "  infoSelect.website = widgets.Dropdown(\n",
        "    options = splt,\n",
        "    value = 'None',\n",
        "    description = 'Website :',\n",
        "    disabled = False,\n",
        "    layout={'width': 'max-content'}\n",
        "  )\n",
        "  infoSelect.address = widgets.Dropdown(\n",
        "    options = splt,\n",
        "    value = 'None',\n",
        "    description = 'Address :',\n",
        "    disabled = False,\n",
        "    layout={'width': 'max-content'}\n",
        "  )\n",
        "\n",
        "  infoSelect.btn1 = widgets.Button(\n",
        "    description = 'Save',\n",
        "    disabled = False,\n",
        "    button_style = 'success',\n",
        "    tooltip = 'Click me',\n",
        "  )\n",
        "\n",
        "  infoSelect.btn2 = widgets.Button(\n",
        "    description = 'Reset',\n",
        "    disabled = False,\n",
        "    button_style = 'warning',\n",
        "    tooltip = 'Click me',\n",
        "  )\n",
        "\n",
        "  def btn1_clicked(b):\n",
        "    global NAME\n",
        "    global ROLE\n",
        "    global COMPANY\n",
        "    global EMAIL\n",
        "    global PHONE\n",
        "    global WEBSITE\n",
        "    global ADDRESS\n",
        "    NAME = infoSelect.name.value\n",
        "    ROLE = infoSelect.jobRole.value\n",
        "    COMPANY =infoSelect.company.value\n",
        "    EMAIL = infoSelect.email.value\n",
        "    PHONE = infoSelect.phone.value\n",
        "    WEBSITE = infoSelect.website.value\n",
        "    ADDRESS = infoSelect.address.value\n",
        "    writeTXT()\n",
        "    print(\"successfully save infomation\")\n",
        "\n",
        "  def btn2_clicked(b):\n",
        "    infoSelect.name.value = None\n",
        "    infoSelect.jobRole.value = None\n",
        "    infoSelect.company.value = None\n",
        "    infoSelect.email.value = None\n",
        "    infoSelect.phone.value = None\n",
        "    infoSelect.website.value = None\n",
        "    infoSelect.address.value = None\n",
        "\n",
        "  def writeTXT():\n",
        "    try:\n",
        "      os.remove('data.txt')\n",
        "    except:\n",
        "      pass\n",
        "    f = open(\"data.txt\",\"w+\")\n",
        "    f.write('Name - Surname: ' + NAME + '\\n')\n",
        "    f.write('Role: '           + ROLE + '\\n')\n",
        "    f.write('Company: '        + COMPANY + '\\n')\n",
        "    f.write('Email: '          + EMAIL + '\\n')\n",
        "    f.write('Phone: '          + PHONE + '\\n')\n",
        "    f.write('Website: '        + WEBSITE + '\\n')\n",
        "    f.write('Address: '        + ADDRESS + '\\n')\n",
        "    f.close()\n",
        "\n",
        "\n",
        "  infoSelect.btn1.on_click(btn1_clicked)\n",
        "  infoSelect.btn2.on_click(btn2_clicked)\n",
        "\n",
        "  display(infoSelect.name)\n",
        "  display(infoSelect.jobRole)\n",
        "  display(infoSelect.company)\n",
        "  display(infoSelect.email)\n",
        "  display(infoSelect.phone)\n",
        "  display(infoSelect.website)\n",
        "  display(infoSelect.address)\n",
        "  display(infoSelect.btn1, infoSelect.btn2)\n",
        "\n",
        "# Select each dropdown to match the infomation\n",
        "infoSelect()"
      ],
      "metadata": {
        "id": "RnaKInrKpbio",
        "colab": {
          "base_uri": "https://localhost:8080/",
          "height": 310,
          "referenced_widgets": [
            "f0c75df84b744e2e92df743c79e639e3",
            "a569bd11453a4013ad15a5adff1f283c",
            "8ef78ddc47de408c97fa597d7ec8b868",
            "283188c8d101411991beeb6f6609fef9",
            "b99523b0afae42278c1e8babd4bfbdb8",
            "d4dbb94ef086420aab2befccc0fca89e",
            "5d75b01aa73441829f44643a3c387c18",
            "6f1ec8291d644432ac7e7dfc8bcedf69",
            "77ca5d02052c413cb6b2655751a83790",
            "dbe12f9b96b04a6c9663bb1f660aff5d",
            "fce8a9dcaecf470894a5c724c8d7c263",
            "f1b625a6693a4014a51ca918a02ee514",
            "5ed5a5b44ff841ec897afdfe4eb22a28",
            "803c6aca379a4772afb0e9e7d7175bc2",
            "d6f1d00853e6483a97a83c497dbced99",
            "fc698c61c18c464dbf34bd31efddd937",
            "aeb142ec7b1d41e5be4d5a7a2ea9ee0f",
            "d4f15277ead047868263bea82878aa17",
            "947083f62b894702bf0d368f196b689e",
            "dc2ad1cd6b4d47dcaf6de52b8338eb73",
            "32ab414d8c164b318c12bdbc4f6d044b",
            "c82eb3c286cf4f28a986802b960cea56",
            "ca5f8fcc72364af3959298ef203f7741",
            "d5b595cb60da42c583ebae5ee3261cc0",
            "3913b82121744ba1b9cfd948130f2e3b",
            "9e82183f1a1b40c3bfba9b86215256d8",
            "6f65c611ef734761a1e8dda47a6358d4"
          ]
        },
        "outputId": "55cce409-d11c-467e-bc54-cc5a9255eb81"
      },
      "execution_count": null,
      "outputs": [
        {
          "output_type": "display_data",
          "data": {
            "text/plain": [
              "Dropdown(description='Name :', index=8, layout=Layout(width='max-content'), options=('v SOFTEC', 'BAILEY DUPON…"
            ],
            "application/vnd.jupyter.widget-view+json": {
              "version_major": 2,
              "version_minor": 0,
              "model_id": "f0c75df84b744e2e92df743c79e639e3"
            }
          },
          "metadata": {}
        },
        {
          "output_type": "display_data",
          "data": {
            "text/plain": [
              "Dropdown(description='Role :', index=8, layout=Layout(width='max-content'), options=('v SOFTEC', 'BAILEY DUPON…"
            ],
            "application/vnd.jupyter.widget-view+json": {
              "version_major": 2,
              "version_minor": 0,
              "model_id": "283188c8d101411991beeb6f6609fef9"
            }
          },
          "metadata": {}
        },
        {
          "output_type": "display_data",
          "data": {
            "text/plain": [
              "Dropdown(description='Company :', index=8, layout=Layout(width='max-content'), options=('v SOFTEC', 'BAILEY DU…"
            ],
            "application/vnd.jupyter.widget-view+json": {
              "version_major": 2,
              "version_minor": 0,
              "model_id": "5d75b01aa73441829f44643a3c387c18"
            }
          },
          "metadata": {}
        },
        {
          "output_type": "display_data",
          "data": {
            "text/plain": [
              "Dropdown(description='Email :', index=8, layout=Layout(width='max-content'), options=('v SOFTEC', 'BAILEY DUPO…"
            ],
            "application/vnd.jupyter.widget-view+json": {
              "version_major": 2,
              "version_minor": 0,
              "model_id": "dbe12f9b96b04a6c9663bb1f660aff5d"
            }
          },
          "metadata": {}
        },
        {
          "output_type": "display_data",
          "data": {
            "text/plain": [
              "Dropdown(description='Phone No. :', index=8, layout=Layout(width='max-content'), options=('v SOFTEC', 'BAILEY …"
            ],
            "application/vnd.jupyter.widget-view+json": {
              "version_major": 2,
              "version_minor": 0,
              "model_id": "5ed5a5b44ff841ec897afdfe4eb22a28"
            }
          },
          "metadata": {}
        },
        {
          "output_type": "display_data",
          "data": {
            "text/plain": [
              "Dropdown(description='Website :', index=8, layout=Layout(width='max-content'), options=('v SOFTEC', 'BAILEY DU…"
            ],
            "application/vnd.jupyter.widget-view+json": {
              "version_major": 2,
              "version_minor": 0,
              "model_id": "fc698c61c18c464dbf34bd31efddd937"
            }
          },
          "metadata": {}
        },
        {
          "output_type": "display_data",
          "data": {
            "text/plain": [
              "Dropdown(description='Address :', index=8, layout=Layout(width='max-content'), options=('v SOFTEC', 'BAILEY DU…"
            ],
            "application/vnd.jupyter.widget-view+json": {
              "version_major": 2,
              "version_minor": 0,
              "model_id": "947083f62b894702bf0d368f196b689e"
            }
          },
          "metadata": {}
        },
        {
          "output_type": "display_data",
          "data": {
            "text/plain": [
              "Button(button_style='success', description='Save', style=ButtonStyle(), tooltip='Click me')"
            ],
            "application/vnd.jupyter.widget-view+json": {
              "version_major": 2,
              "version_minor": 0,
              "model_id": "c82eb3c286cf4f28a986802b960cea56"
            }
          },
          "metadata": {}
        },
        {
          "output_type": "display_data",
          "data": {
            "text/plain": [
              "Button(button_style='warning', description='Reset', style=ButtonStyle(), tooltip='Click me')"
            ],
            "application/vnd.jupyter.widget-view+json": {
              "version_major": 2,
              "version_minor": 0,
              "model_id": "3913b82121744ba1b9cfd948130f2e3b"
            }
          },
          "metadata": {}
        },
        {
          "output_type": "stream",
          "name": "stdout",
          "text": [
            "successfully save infomation\n"
          ]
        }
      ]
    },
    {
      "cell_type": "code",
      "source": [
        "# Extract Face from Card using Haarcascade Classifier\n",
        "image = cv.imread('colored_img.jpg')\n",
        "gray = cv.cvtColor(image, cv.COLOR_BGR2GRAY)\n",
        "face_img = None\n",
        "faceCascade = cv.CascadeClassifier(cv.data.haarcascades + \"haarcascade_frontalface_default.xml\")\n",
        "faces = faceCascade.detectMultiScale(\n",
        "    gray,\n",
        "    scaleFactor=1.3,\n",
        "    minNeighbors=3,\n",
        "    minSize=(30, 30)\n",
        ")\n",
        "\n",
        "for (x, y, w, h) in faces:\n",
        "    roi_color = image[y - 35 :y + h + 35 , x - 35 :x + w + 35]\n",
        "    roi_color = cv.resize(roi_color, (200, 200), interpolation = cv.INTER_AREA)\n",
        "    try:\n",
        "      os.remove('face_img.jpg')\n",
        "    except:\n",
        "      pass\n",
        "    cv.imwrite('face_img.jpg', roi_color)\n",
        "\n",
        "face_img = cv.imread('face_img.jpg')\n",
        "face_img = cv.cvtColor(face_img, cv.COLOR_BGR2RGB)\n",
        "plt.imshow(face_img)"
      ],
      "metadata": {
        "colab": {
          "base_uri": "https://localhost:8080/",
          "height": 286
        },
        "id": "wuG_SnQRojyP",
        "outputId": "f8cc056e-067c-4828-dd45-e9ec895f3082"
      },
      "execution_count": null,
      "outputs": [
        {
          "output_type": "execute_result",
          "data": {
            "text/plain": [
              "<matplotlib.image.AxesImage at 0x7fb58a1080d0>"
            ]
          },
          "metadata": {},
          "execution_count": 48
        },
        {
          "output_type": "display_data",
          "data": {
            "text/plain": [
              "<Figure size 432x288 with 1 Axes>"
            ],
            "image/png": "[encoded data removed]"
          },
          "metadata": {
            "needs_background": "light"
          }
        }
      ]
    },
    {
      "cell_type": "code",
      "source": [
        "class PDF(FPDF):\n",
        "    def lines(self):\n",
        "        self.set_line_width(0.0)\n",
        "        self.line(5.0, 5.0, 205.0, 5.0)\n",
        "        self.line(5.0, 292.0, 205.0, 292.0)\n",
        "        self.line(5.0, 5.0, 5.0, 292.0)\n",
        "        self.line(205.0, 5.0, 205.0, 292.0)\n",
        "        \n",
        "    def imagex(self):\n",
        "        self.set_xy(70.0,30.0)\n",
        "        self.image('face_img.jpg',  link='', type='')\n",
        "\n",
        "    def titles(self):\n",
        "        self.set_xy(0.0,0.0)\n",
        "        self.set_font('Arial', 'B', 16)\n",
        "        self.set_text_color(0, 0, 0)\n",
        "        self.cell(w=210.0, h=40.0, align='C', txt=\"Card infomation\", border=0)\n",
        "\n",
        "    def texts(self,name):\n",
        "        with open(name,'rb') as xy:\n",
        "            txt = xy.read().decode('utf-8')\n",
        "        self.set_xy(30.0, 110.0)    \n",
        "        self.set_text_color(0, 0, 0)\n",
        "        self.set_font('Arial', '', 12)\n",
        "        self.multi_cell(0,10,txt)\n",
        "\n",
        "\n",
        "# Write face image and infomation in PDF and download\n",
        "try:\n",
        "  os.remove('Card_infomation.pdf')\n",
        "except:\n",
        "  pass\n",
        "pdf = PDF(orientation='P', unit='mm', format='A4')\n",
        "pdf.add_page()\n",
        "pdf.lines()\n",
        "pdf.imagex()\n",
        "pdf.titles()\n",
        "pdf.texts('data.txt')\n",
        "pdf.output('Card_infomation.pdf','F')\n",
        "files.download('Card_infomation.pdf')"
      ],
      "metadata": {
        "colab": {
          "base_uri": "https://localhost:8080/",
          "height": 17
        },
        "id": "aFBDFucWDA4c",
        "outputId": "c3f71fe4-924b-4116-93d3-920496dd20ba"
      },
      "execution_count": null,
      "outputs": [
        {
          "output_type": "display_data",
          "data": {
            "text/plain": [
              "<IPython.core.display.Javascript object>"
            ],
            "application/javascript": [
              "\n",
              "    async function download(id, filename, size) {\n",
              "      if (!google.colab.kernel.accessAllowed) {\n",
              "        return;\n",
              "      }\n",
              "      const div = document.createElement('div');\n",
              "      const label = document.createElement('label');\n",
              "      label.textContent = `Downloading \"${filename}\": `;\n",
              "      div.appendChild(label);\n",
              "      const progress = document.createElement('progress');\n",
              "      progress.max = size;\n",
              "      div.appendChild(progress);\n",
              "      document.body.appendChild(div);\n",
              "\n",
              "      const buffers = [];\n",
              "      let downloaded = 0;\n",
              "\n",
              "      const channel = await google.colab.kernel.comms.open(id);\n",
              "      // Send a message to notify the kernel that we're ready.\n",
              "      channel.send({})\n",
              "\n",
              "      for await (const message of channel.messages) {\n",
              "        // Send a message to notify the kernel that we're ready.\n",
              "        channel.send({})\n",
              "        if (message.buffers) {\n",
              "          for (const buffer of message.buffers) {\n",
              "            buffers.push(buffer);\n",
              "            downloaded += buffer.byteLength;\n",
              "            progress.value = downloaded;\n",
              "          }\n",
              "        }\n",
              "      }\n",
              "      const blob = new Blob(buffers, {type: 'application/binary'});\n",
              "      const a = document.createElement('a');\n",
              "      a.href = window.URL.createObjectURL(blob);\n",
              "      a.download = filename;\n",
              "      div.appendChild(a);\n",
              "      a.click();\n",
              "      div.remove();\n",
              "    }\n",
              "  "
            ]
          },
          "metadata": {}
        },
        {
          "output_type": "display_data",
          "data": {
            "text/plain": [
              "<IPython.core.display.Javascript object>"
            ],
            "application/javascript": [
              "download(\"download_2013e3a4-a245-4ef4-8930-e974ee6ceeab\", \"Card_infomation.pdf\", 15217)"
            ]
          },
          "metadata": {}
        }
      ]
    },
    {
      "cell_type": "code",
      "source": [],
      "metadata": {
        "id": "UMzCrP_EMAnI"
      },
      "execution_count": null,
      "outputs": []
    }
  ]
}